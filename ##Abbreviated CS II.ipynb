{
 "cells": [
  {
   "cell_type": "code",
   "execution_count": 12,
   "id": "44b68508",
   "metadata": {},
   "outputs": [
    {
     "name": "stdout",
     "output_type": "stream",
     "text": [
      "File does not exist\n",
      "What would you like to do?\n",
      "a: Add songs to your Playlist\n",
      "b: Display the Playlist\n",
      "c: Search for a Songa\n"
     ]
    },
    {
     "ename": "NameError",
     "evalue": "name 'addSongs' is not defined",
     "output_type": "error",
     "traceback": [
      "\u001b[0;31m---------------------------------------------------------------------------\u001b[0m",
      "\u001b[0;31mNameError\u001b[0m                                 Traceback (most recent call last)",
      "\u001b[0;32m/var/folders/jl/2k4dhd7s3rv_cncxt1zks9_c0000gq/T/ipykernel_2150/727897579.py\u001b[0m in \u001b[0;36m<module>\u001b[0;34m\u001b[0m\n\u001b[1;32m     20\u001b[0m      \"c: Search for a Song\")\n\u001b[1;32m     21\u001b[0m \u001b[0;32mif\u001b[0m \u001b[0muser\u001b[0m\u001b[0;34m==\u001b[0m\u001b[0;34m'a'\u001b[0m\u001b[0;34m:\u001b[0m\u001b[0;34m\u001b[0m\u001b[0;34m\u001b[0m\u001b[0m\n\u001b[0;32m---> 22\u001b[0;31m     \u001b[0maddSongs\u001b[0m\u001b[0;34m(\u001b[0m\u001b[0;34m)\u001b[0m\u001b[0;34m\u001b[0m\u001b[0;34m\u001b[0m\u001b[0m\n\u001b[0m\u001b[1;32m     23\u001b[0m \u001b[0;34m\u001b[0m\u001b[0m\n\u001b[1;32m     24\u001b[0m \u001b[0;32mdef\u001b[0m \u001b[0maddSongs\u001b[0m\u001b[0;34m(\u001b[0m\u001b[0mbandName\u001b[0m\u001b[0;34m,\u001b[0m \u001b[0msongName\u001b[0m\u001b[0;34m)\u001b[0m\u001b[0;34m:\u001b[0m\u001b[0;34m\u001b[0m\u001b[0;34m\u001b[0m\u001b[0m\n",
      "\u001b[0;31mNameError\u001b[0m: name 'addSongs' is not defined"
     ]
    }
   ],
   "source": [
    "import random\n",
    "import os\n",
    "playlist={}\n",
    "\n",
    "file = '/Users/cory/Development/playlist.txt'\n",
    "\n",
    "\n",
    "if os.path.exists(file):\n",
    "   with open(file, 'w') as file:\n",
    "    for key, value in playlist.items():\n",
    "        file.write(f'{key}: {value}\\n')\n",
    "        print(playlist)\n",
    "        \n",
    "else: \n",
    "    print(\"File does not exist\")\n",
    "    \n",
    "user=input(\"What would you like to do?\" + \"\\n\"+\n",
    "     \"a: Add songs to your Playlist\" + \"\\n\"+\n",
    "     \"b: Display the Playlist\"+ \"\\n\"+\n",
    "     \"c: Search for a Song\")\n",
    "if user=='a': \n",
    "    addSongs()\n",
    "\n",
    "def addSongs(bandName, songName):\n",
    "    bandName=input(\"Band Name: \")\n",
    "    songName=input(\"Song Name: \")\n",
    "    playlist[bandName]=[songName]\n",
    "    \n",
    "    \n",
    "\n",
    "    \n"
   ]
  },
  {
   "cell_type": "code",
   "execution_count": 13,
   "id": "ddd58e7c",
   "metadata": {},
   "outputs": [
    {
     "name": "stdout",
     "output_type": "stream",
     "text": [
      "\n",
      "Menu:\n",
      "1. Display Playlist\n",
      "2. Search Song\n",
      "3. Add Song\n",
      "4. Delete Song\n",
      "5. Exit\n"
     ]
    },
    {
     "ename": "KeyboardInterrupt",
     "evalue": "Interrupted by user",
     "output_type": "error",
     "traceback": [
      "\u001b[0;31m---------------------------------------------------------------------------\u001b[0m",
      "\u001b[0;31mKeyboardInterrupt\u001b[0m                         Traceback (most recent call last)",
      "\u001b[0;32m/var/folders/jl/2k4dhd7s3rv_cncxt1zks9_c0000gq/T/ipykernel_2150/2478487735.py\u001b[0m in \u001b[0;36m<module>\u001b[0;34m\u001b[0m\n\u001b[1;32m     66\u001b[0m \u001b[0;34m\u001b[0m\u001b[0m\n\u001b[1;32m     67\u001b[0m \u001b[0;32mif\u001b[0m \u001b[0m__name__\u001b[0m \u001b[0;34m==\u001b[0m \u001b[0;34m\"__main__\"\u001b[0m\u001b[0;34m:\u001b[0m\u001b[0;34m\u001b[0m\u001b[0;34m\u001b[0m\u001b[0m\n\u001b[0;32m---> 68\u001b[0;31m     \u001b[0mmain\u001b[0m\u001b[0;34m(\u001b[0m\u001b[0;34m)\u001b[0m\u001b[0;34m\u001b[0m\u001b[0;34m\u001b[0m\u001b[0m\n\u001b[0m",
      "\u001b[0;32m/var/folders/jl/2k4dhd7s3rv_cncxt1zks9_c0000gq/T/ipykernel_2150/2478487735.py\u001b[0m in \u001b[0;36mmain\u001b[0;34m()\u001b[0m\n\u001b[1;32m     46\u001b[0m         \u001b[0mprint\u001b[0m\u001b[0;34m(\u001b[0m\u001b[0;34m\"5. Exit\"\u001b[0m\u001b[0;34m)\u001b[0m\u001b[0;34m\u001b[0m\u001b[0;34m\u001b[0m\u001b[0m\n\u001b[1;32m     47\u001b[0m \u001b[0;34m\u001b[0m\u001b[0m\n\u001b[0;32m---> 48\u001b[0;31m         \u001b[0mchoice\u001b[0m \u001b[0;34m=\u001b[0m \u001b[0minput\u001b[0m\u001b[0;34m(\u001b[0m\u001b[0;34m\"Enter your choice (1-5): \"\u001b[0m\u001b[0;34m)\u001b[0m\u001b[0;34m\u001b[0m\u001b[0;34m\u001b[0m\u001b[0m\n\u001b[0m\u001b[1;32m     49\u001b[0m \u001b[0;34m\u001b[0m\u001b[0m\n\u001b[1;32m     50\u001b[0m         \u001b[0;32mif\u001b[0m \u001b[0mchoice\u001b[0m \u001b[0;34m==\u001b[0m \u001b[0;34m'1'\u001b[0m\u001b[0;34m:\u001b[0m\u001b[0;34m\u001b[0m\u001b[0;34m\u001b[0m\u001b[0m\n",
      "\u001b[0;32m~/opt/anaconda3/lib/python3.9/site-packages/ipykernel/kernelbase.py\u001b[0m in \u001b[0;36mraw_input\u001b[0;34m(self, prompt)\u001b[0m\n\u001b[1;32m   1004\u001b[0m                 \u001b[0;34m\"raw_input was called, but this frontend does not support input requests.\"\u001b[0m\u001b[0;34m\u001b[0m\u001b[0;34m\u001b[0m\u001b[0m\n\u001b[1;32m   1005\u001b[0m             )\n\u001b[0;32m-> 1006\u001b[0;31m         return self._input_request(\n\u001b[0m\u001b[1;32m   1007\u001b[0m             \u001b[0mstr\u001b[0m\u001b[0;34m(\u001b[0m\u001b[0mprompt\u001b[0m\u001b[0;34m)\u001b[0m\u001b[0;34m,\u001b[0m\u001b[0;34m\u001b[0m\u001b[0;34m\u001b[0m\u001b[0m\n\u001b[1;32m   1008\u001b[0m             \u001b[0mself\u001b[0m\u001b[0;34m.\u001b[0m\u001b[0m_parent_ident\u001b[0m\u001b[0;34m[\u001b[0m\u001b[0;34m\"shell\"\u001b[0m\u001b[0;34m]\u001b[0m\u001b[0;34m,\u001b[0m\u001b[0;34m\u001b[0m\u001b[0;34m\u001b[0m\u001b[0m\n",
      "\u001b[0;32m~/opt/anaconda3/lib/python3.9/site-packages/ipykernel/kernelbase.py\u001b[0m in \u001b[0;36m_input_request\u001b[0;34m(self, prompt, ident, parent, password)\u001b[0m\n\u001b[1;32m   1049\u001b[0m             \u001b[0;32mexcept\u001b[0m \u001b[0mKeyboardInterrupt\u001b[0m\u001b[0;34m:\u001b[0m\u001b[0;34m\u001b[0m\u001b[0;34m\u001b[0m\u001b[0m\n\u001b[1;32m   1050\u001b[0m                 \u001b[0;31m# re-raise KeyboardInterrupt, to truncate traceback\u001b[0m\u001b[0;34m\u001b[0m\u001b[0;34m\u001b[0m\u001b[0m\n\u001b[0;32m-> 1051\u001b[0;31m                 \u001b[0;32mraise\u001b[0m \u001b[0mKeyboardInterrupt\u001b[0m\u001b[0;34m(\u001b[0m\u001b[0;34m\"Interrupted by user\"\u001b[0m\u001b[0;34m)\u001b[0m \u001b[0;32mfrom\u001b[0m \u001b[0;32mNone\u001b[0m\u001b[0;34m\u001b[0m\u001b[0;34m\u001b[0m\u001b[0m\n\u001b[0m\u001b[1;32m   1052\u001b[0m             \u001b[0;32mexcept\u001b[0m \u001b[0mException\u001b[0m\u001b[0;34m:\u001b[0m\u001b[0;34m\u001b[0m\u001b[0;34m\u001b[0m\u001b[0m\n\u001b[1;32m   1053\u001b[0m                 \u001b[0mself\u001b[0m\u001b[0;34m.\u001b[0m\u001b[0mlog\u001b[0m\u001b[0;34m.\u001b[0m\u001b[0mwarning\u001b[0m\u001b[0;34m(\u001b[0m\u001b[0;34m\"Invalid Message:\"\u001b[0m\u001b[0;34m,\u001b[0m \u001b[0mexc_info\u001b[0m\u001b[0;34m=\u001b[0m\u001b[0;32mTrue\u001b[0m\u001b[0;34m)\u001b[0m\u001b[0;34m\u001b[0m\u001b[0;34m\u001b[0m\u001b[0m\n",
      "\u001b[0;31mKeyboardInterrupt\u001b[0m: Interrupted by user"
     ]
    }
   ],
   "source": [
    "def display_playlist(playlist):\n",
    "    if not playlist:\n",
    "        print(\"Playlist is empty.\")\n",
    "    else:\n",
    "        print(\"Current Playlist:\")\n",
    "        for key, value in playlist.items():\n",
    "            print(f\"{key}: {value}\")\n",
    "\n",
    "def search_song(playlist, song):\n",
    "    found = False\n",
    "    for key, value in playlist.items():\n",
    "        if song.lower() in value.lower():\n",
    "            found = True\n",
    "            print(f\"Found '{value}' in the playlist with ID: {key}\")\n",
    "    if not found:\n",
    "        print(f\"'{song}' is not in the playlist.\")\n",
    "\n",
    "def add_song(playlist, song):\n",
    "    song_id = str(len(playlist) + 1)\n",
    "    playlist[song_id] = song\n",
    "    print(f\"Added '{song}' to the playlist with ID: {song_id}\")\n",
    "\n",
    "def delete_song(playlist, song):\n",
    "    found = False\n",
    "    for key, value in playlist.items():\n",
    "        if song.lower() in value.lower():\n",
    "            found = True\n",
    "            del playlist[key]\n",
    "            print(f\"Deleted '{value}' from the playlist with ID: {key}\")\n",
    "    if not found:\n",
    "        print(f\"'{song}' is not in the playlist.\")\n",
    "\n",
    "def save_playlist(playlist, file_name):\n",
    "    with open(file_name, 'w') as file:\n",
    "        for key, value in playlist.items():\n",
    "            file.write(f\"{key}:{value}\\n\")\n",
    "\n",
    "def load_playlist(file_name):\n",
    "    try:\n",
    "        playlist = {}\n",
    "        with open(file_name, 'r') as file:\n",
    "            for line in file:\n",
    "                key, value = line.strip().split(':', 1)\n",
    "                playlist[key] = value\n",
    "        return playlist\n",
    "    except FileNotFoundError:\n",
    "        return {}\n",
    "\n",
    "def main():\n",
    "    file_name = 'playlist.txt'\n",
    "    playlist = load_playlist(file_name)\n",
    "\n",
    "    while True:\n",
    "        print(\"\\nMenu:\")\n",
    "        print(\"1. Display Playlist\")\n",
    "        print(\"2. Search Song\")\n",
    "        print(\"3. Add Song\")\n",
    "        print(\"4. Delete Song\")\n",
    "        print(\"5. Save and Exit\")\n",
    "\n",
    "        choice = input(\"Enter your choice (1-5): \")\n",
    "\n",
    "        if choice == '1':\n",
    "            display_playlist(playlist)\n",
    "        elif choice == '2':\n",
    "            song = input(\"Enter the song to search: \")\n",
    "            search_song(playlist, song)\n",
    "        elif choice == '3':\n",
    "            song = input(\"Enter the song to add: \")\n",
    "            add_song(playlist, song)\n",
    "        elif choice == '4':\n",
    "            song = input(\"Enter the song to delete: \")\n",
    "            delete_song(playlist, song)\n",
    "        elif choice == '5':\n",
    "            save_playlist(playlist, file_name)\n",
    "            print(\"Playlist saved. Exiting the program.\")\n",
    "            break\n",
    "        else:\n",
    "            print(\"Invalid choice. Please enter a number between 1 and 5.\")\n",
    "\n",
    "if __name__ == \"__main__\":\n",
    "    main()\n"
   ]
  },
  {
   "cell_type": "code",
   "execution_count": null,
   "id": "5ff21a7c",
   "metadata": {},
   "outputs": [],
   "source": []
  }
 ],
 "metadata": {
  "kernelspec": {
   "display_name": "Python 3 (ipykernel)",
   "language": "python",
   "name": "python3"
  },
  "language_info": {
   "codemirror_mode": {
    "name": "ipython",
    "version": 3
   },
   "file_extension": ".py",
   "mimetype": "text/x-python",
   "name": "python",
   "nbconvert_exporter": "python",
   "pygments_lexer": "ipython3",
   "version": "3.9.7"
  }
 },
 "nbformat": 4,
 "nbformat_minor": 5
}
