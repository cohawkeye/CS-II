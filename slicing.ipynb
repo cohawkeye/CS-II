{
 "cells": [
  {
   "cell_type": "code",
   "execution_count": 6,
   "id": "ab8d2ba0",
   "metadata": {},
   "outputs": [],
   "source": [
    "school='Earlham Community Schools'"
   ]
  },
  {
   "cell_type": "code",
   "execution_count": 7,
   "id": "2f9bab9a",
   "metadata": {},
   "outputs": [
    {
     "name": "stdout",
     "output_type": "stream",
     "text": [
      "rlh\n"
     ]
    }
   ],
   "source": [
    "name=school[2:5]\n",
    "print(name)"
   ]
  },
  {
   "cell_type": "code",
   "execution_count": 9,
   "id": "79903a2f",
   "metadata": {},
   "outputs": [
    {
     "name": "stdout",
     "output_type": "stream",
     "text": [
      "rhmC\n"
     ]
    }
   ],
   "source": [
    "name2=school[2:10:2]\n",
    "print(name2)"
   ]
  },
  {
   "cell_type": "code",
   "execution_count": 10,
   "id": "ac4ab119",
   "metadata": {},
   "outputs": [
    {
     "name": "stdout",
     "output_type": "stream",
     "text": [
      "Earlh\n"
     ]
    }
   ],
   "source": [
    "name3=school[:5]\n",
    "print(name3)"
   ]
  },
  {
   "cell_type": "code",
   "execution_count": 13,
   "id": "ad456d4b",
   "metadata": {},
   "outputs": [
    {
     "name": "stdout",
     "output_type": "stream",
     "text": [
      "am Community Schools\n"
     ]
    }
   ],
   "source": [
    "name4=school[5:]\n",
    "print(name4)"
   ]
  },
  {
   "cell_type": "code",
   "execution_count": 16,
   "id": "9ee6dbe5",
   "metadata": {},
   "outputs": [
    {
     "name": "stdout",
     "output_type": "stream",
     "text": [
      "rlham \n"
     ]
    }
   ],
   "source": [
    "print(school[2:8])"
   ]
  },
  {
   "cell_type": "code",
   "execution_count": null,
   "id": "03be7bee",
   "metadata": {},
   "outputs": [],
   "source": []
  }
 ],
 "metadata": {
  "kernelspec": {
   "display_name": "Python 3 (ipykernel)",
   "language": "python",
   "name": "python3"
  },
  "language_info": {
   "codemirror_mode": {
    "name": "ipython",
    "version": 3
   },
   "file_extension": ".py",
   "mimetype": "text/x-python",
   "name": "python",
   "nbconvert_exporter": "python",
   "pygments_lexer": "ipython3",
   "version": "3.9.7"
  }
 },
 "nbformat": 4,
 "nbformat_minor": 5
}
