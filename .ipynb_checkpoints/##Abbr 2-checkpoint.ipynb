{
 "cells": [
  {
   "cell_type": "code",
   "execution_count": 5,
   "id": "bae9473b",
   "metadata": {},
   "outputs": [
    {
     "ename": "NameError",
     "evalue": "name 'load_playlist' is not defined",
     "output_type": "error",
     "traceback": [
      "\u001b[0;31m---------------------------------------------------------------------------\u001b[0m",
      "\u001b[0;31mNameError\u001b[0m                                 Traceback (most recent call last)",
      "\u001b[0;32m/var/folders/jl/2k4dhd7s3rv_cncxt1zks9_c0000gq/T/ipykernel_4911/2982383881.py\u001b[0m in \u001b[0;36m<module>\u001b[0;34m\u001b[0m\n\u001b[1;32m     50\u001b[0m             \u001b[0mprint\u001b[0m\u001b[0;34m(\u001b[0m\u001b[0;34m\"Invalid choice. Please enter a number between 1 and 5.\"\u001b[0m\u001b[0;34m)\u001b[0m\u001b[0;34m\u001b[0m\u001b[0;34m\u001b[0m\u001b[0m\n\u001b[1;32m     51\u001b[0m \u001b[0;34m\u001b[0m\u001b[0m\n\u001b[0;32m---> 52\u001b[0;31m \u001b[0mmain\u001b[0m\u001b[0;34m(\u001b[0m\u001b[0;34m)\u001b[0m\u001b[0;34m\u001b[0m\u001b[0;34m\u001b[0m\u001b[0m\n\u001b[0m",
      "\u001b[0;32m/var/folders/jl/2k4dhd7s3rv_cncxt1zks9_c0000gq/T/ipykernel_4911/2982383881.py\u001b[0m in \u001b[0;36mmain\u001b[0;34m()\u001b[0m\n\u001b[1;32m     21\u001b[0m \u001b[0;34m\u001b[0m\u001b[0m\n\u001b[1;32m     22\u001b[0m     \u001b[0mfile\u001b[0m\u001b[0;34m=\u001b[0m\u001b[0;34m'/Users/cory/Development/contacts.txt'\u001b[0m\u001b[0;34m\u001b[0m\u001b[0;34m\u001b[0m\u001b[0m\n\u001b[0;32m---> 23\u001b[0;31m     \u001b[0mcontacts\u001b[0m \u001b[0;34m=\u001b[0m \u001b[0mload_playlist\u001b[0m\u001b[0;34m(\u001b[0m\u001b[0mfile_name\u001b[0m\u001b[0;34m)\u001b[0m\u001b[0;34m\u001b[0m\u001b[0;34m\u001b[0m\u001b[0m\n\u001b[0m\u001b[1;32m     24\u001b[0m     \u001b[0;32mwhile\u001b[0m \u001b[0;32mTrue\u001b[0m\u001b[0;34m:\u001b[0m\u001b[0;34m\u001b[0m\u001b[0;34m\u001b[0m\u001b[0m\n\u001b[1;32m     25\u001b[0m         \u001b[0mprint\u001b[0m\u001b[0;34m(\u001b[0m\u001b[0;34m\"\\nMenu:\"\u001b[0m\u001b[0;34m)\u001b[0m\u001b[0;34m\u001b[0m\u001b[0;34m\u001b[0m\u001b[0m\n",
      "\u001b[0;31mNameError\u001b[0m: name 'load_playlist' is not defined"
     ]
    }
   ],
   "source": [
    "def displayContacts(contacts):\n",
    "    if not contacts:\n",
    "        print(\"Contacts is empty\")\n",
    "    else: \n",
    "        print(\"Contact List: \")\n",
    "        for key, value in contacts.items():\n",
    "            print(f\"{key}: {value}\")\n",
    "\n",
    "def addContact(contacts, contact):\n",
    "    song_id = str(len(playlist) + 1)\n",
    "    playlist[song_id] = song\n",
    "    print(f\"Added '{song}' to the playlist with ID: {song_id}\")\n",
    "            \n",
    "\n",
    "def saveContact(contacts, file):\n",
    "    with open(file_name, 'w') as file:\n",
    "        for key, value in file.items():\n",
    "            file.write(f\"{key}:{value}\\n\")\n",
    "\n",
    "def main():\n",
    "    \n",
    "    file='/Users/cory/Development/contacts.txt'\n",
    "    contacts = load(file_name)\n",
    "    while True: \n",
    "        print(\"\\nMenu:\")\n",
    "        print(\"1. Contacts\")\n",
    "        print(\"2. Search Contacts\")\n",
    "        print(\"3. Add Contacdt\")\n",
    "        print(\"4. Delete Contact\")\n",
    "        print(\"5. Save and Exit\")\n",
    "\n",
    "        choice = input(\"Enter your choice (1-5): \")\n",
    "\n",
    "        if choice == '1':\n",
    "            displayContacts(contacts)\n",
    "        elif choice == '2':\n",
    "            contact = input(\"Enter the song to search: \")\n",
    "            searchContact(contacts, contact)\n",
    "        elif choice == '3':\n",
    "            contact = input(\"Enter the song to add: \")\n",
    "            addContact(contacts, contact)\n",
    "        elif choice == '4':\n",
    "            contact = input(\"Enter the song to delete: \")\n",
    "            deleteContact(contacts, contact)\n",
    "        elif choice == '5':\n",
    "            saveContact(contacts, file)\n",
    "            print(\"Playlist saved. Exiting the program.\")\n",
    "            break\n",
    "        else:\n",
    "            print(\"Invalid choice. Please enter a number between 1 and 5.\")\n",
    "\n",
    "main()"
   ]
  },
  {
   "cell_type": "code",
   "execution_count": null,
   "id": "d1ee4b4d",
   "metadata": {},
   "outputs": [],
   "source": []
  }
 ],
 "metadata": {
  "kernelspec": {
   "display_name": "Python 3 (ipykernel)",
   "language": "python",
   "name": "python3"
  },
  "language_info": {
   "codemirror_mode": {
    "name": "ipython",
    "version": 3
   },
   "file_extension": ".py",
   "mimetype": "text/x-python",
   "name": "python",
   "nbconvert_exporter": "python",
   "pygments_lexer": "ipython3",
   "version": "3.9.7"
  }
 },
 "nbformat": 4,
 "nbformat_minor": 5
}
