{
 "cells": [
  {
   "cell_type": "code",
   "execution_count": 11,
   "id": "c1939620",
   "metadata": {},
   "outputs": [
    {
     "name": "stdout",
     "output_type": "stream",
     "text": [
      "47\n"
     ]
    }
   ],
   "source": [
    "import numpy as np\n",
    "array=np.random.randint(1,100)\n",
    "print(array)"
   ]
  },
  {
   "cell_type": "code",
   "execution_count": 6,
   "id": "1fd13a9e",
   "metadata": {},
   "outputs": [],
   "source": [
    "tries=0\n",
    "def guessNumber(array, guess, tries):\n",
    "    if guess==array:\n",
    "        return True\n",
    "    elif guess<array:\n",
    "        tries=tries+1\n",
    "        print(\"Higher\")\n",
    "    else: \n",
    "        tries=tries+1\n",
    "        print(\"Lower\")\n",
    "    return tries\n",
    "    -1"
   ]
  },
  {
   "cell_type": "code",
   "execution_count": 9,
   "id": "65e4905b",
   "metadata": {},
   "outputs": [
    {
     "name": "stdout",
     "output_type": "stream",
     "text": [
      "Let's play a guessing game...guess a number between 1 and 100 ? 44\n",
      "Higher\n"
     ]
    },
    {
     "data": {
      "text/plain": [
       "1"
      ]
     },
     "execution_count": 9,
     "metadata": {},
     "output_type": "execute_result"
    }
   ],
   "source": [
    "guess=int(input(\"Let's play a guessing game...guess a number between 1 and 100 ? \"))\n",
    "guessNumber(array, guess)"
   ]
  },
  {
   "cell_type": "code",
   "execution_count": 10,
   "id": "f9bf371b",
   "metadata": {},
   "outputs": [
    {
     "ename": "SyntaxError",
     "evalue": "invalid syntax (1031001964.py, line 1)",
     "output_type": "error",
     "traceback": [
      "\u001b[0;36m  File \u001b[0;32m\"/var/folders/jl/2k4dhd7s3rv_cncxt1zks9_c0000gq/T/ipykernel_85397/1031001964.py\"\u001b[0;36m, line \u001b[0;32m1\u001b[0m\n\u001b[0;31m    if guess==-1\u001b[0m\n\u001b[0m                ^\u001b[0m\n\u001b[0;31mSyntaxError\u001b[0m\u001b[0;31m:\u001b[0m invalid syntax\n"
     ]
    }
   ],
   "source": [
    "while guessNumber==-1:\n",
    "    print(\"Lower\")\n",
    "    "
   ]
  },
  {
   "cell_type": "code",
   "execution_count": null,
   "id": "6c8e47f2",
   "metadata": {},
   "outputs": [],
   "source": []
  }
 ],
 "metadata": {
  "kernelspec": {
   "display_name": "Python 3 (ipykernel)",
   "language": "python",
   "name": "python3"
  },
  "language_info": {
   "codemirror_mode": {
    "name": "ipython",
    "version": 3
   },
   "file_extension": ".py",
   "mimetype": "text/x-python",
   "name": "python",
   "nbconvert_exporter": "python",
   "pygments_lexer": "ipython3",
   "version": "3.9.7"
  }
 },
 "nbformat": 4,
 "nbformat_minor": 5
}
