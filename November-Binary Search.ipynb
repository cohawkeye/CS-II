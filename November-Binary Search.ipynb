{
 "cells": [
  {
   "cell_type": "code",
   "execution_count": null,
   "id": "a4ad9942",
   "metadata": {},
   "outputs": [],
   "source": [
    "#Why do we need to find data?  \n",
    "#The simplest way to find data\n",
    "#lists \n",
    "#passwordGenenerator"
   ]
  },
  {
   "cell_type": "code",
   "execution_count": 3,
   "id": "c9c2a01e",
   "metadata": {},
   "outputs": [
    {
     "name": "stdout",
     "output_type": "stream",
     "text": [
      "[ 0  1  2  3  4  5  6  7  8  9 10]\n"
     ]
    }
   ],
   "source": [
    "import numpy as np\n",
    "\n",
    "array = np.arange(0, 11) \n",
    "\n",
    "print(array)  \n"
   ]
  },
  {
   "cell_type": "code",
   "execution_count": 4,
   "id": "76973340",
   "metadata": {},
   "outputs": [
    {
     "data": {
      "text/plain": [
       "1"
      ]
     },
     "execution_count": 4,
     "metadata": {},
     "output_type": "execute_result"
    }
   ],
   "source": [
    "array[1]"
   ]
  },
  {
   "cell_type": "code",
   "execution_count": 5,
   "id": "853a7476",
   "metadata": {},
   "outputs": [],
   "source": [
    "new=array[1]+array[2]"
   ]
  },
  {
   "cell_type": "code",
   "execution_count": 7,
   "id": "851a5fee",
   "metadata": {},
   "outputs": [
    {
     "name": "stdout",
     "output_type": "stream",
     "text": [
      "3\n"
     ]
    }
   ],
   "source": [
    "print(new)"
   ]
  },
  {
   "cell_type": "code",
   "execution_count": 8,
   "id": "470a92ff",
   "metadata": {},
   "outputs": [],
   "source": [
    "newArray=array+array"
   ]
  },
  {
   "cell_type": "code",
   "execution_count": 9,
   "id": "f7750423",
   "metadata": {},
   "outputs": [
    {
     "name": "stdout",
     "output_type": "stream",
     "text": [
      "[ 0  2  4  6  8 10 12 14 16 18 20]\n"
     ]
    }
   ],
   "source": [
    "print(newArray)"
   ]
  },
  {
   "cell_type": "code",
   "execution_count": 10,
   "id": "7863ba0e",
   "metadata": {},
   "outputs": [],
   "source": [
    "multArr=array*array"
   ]
  },
  {
   "cell_type": "code",
   "execution_count": 11,
   "id": "509a7a29",
   "metadata": {},
   "outputs": [
    {
     "name": "stdout",
     "output_type": "stream",
     "text": [
      "[  0   1   4   9  16  25  36  49  64  81 100]\n"
     ]
    }
   ],
   "source": [
    "print(multArr)"
   ]
  },
  {
   "cell_type": "code",
   "execution_count": 13,
   "id": "6d7a683c",
   "metadata": {},
   "outputs": [
    {
     "ename": "IndexError",
     "evalue": "index 1000 is out of bounds for axis 0 with size 11",
     "output_type": "error",
     "traceback": [
      "\u001b[0;31m---------------------------------------------------------------------------\u001b[0m",
      "\u001b[0;31mIndexError\u001b[0m                                Traceback (most recent call last)",
      "\u001b[0;32m/var/folders/jl/2k4dhd7s3rv_cncxt1zks9_c0000gq/T/ipykernel_77323/3744920461.py\u001b[0m in \u001b[0;36m<module>\u001b[0;34m\u001b[0m\n\u001b[0;32m----> 1\u001b[0;31m \u001b[0mnp\u001b[0m\u001b[0;34m.\u001b[0m\u001b[0mappend\u001b[0m\u001b[0;34m(\u001b[0m\u001b[0mmultArr\u001b[0m\u001b[0;34m[\u001b[0m\u001b[0;36m1000\u001b[0m\u001b[0;34m]\u001b[0m\u001b[0;34m)\u001b[0m\u001b[0;34m\u001b[0m\u001b[0;34m\u001b[0m\u001b[0m\n\u001b[0m",
      "\u001b[0;31mIndexError\u001b[0m: index 1000 is out of bounds for axis 0 with size 11"
     ]
    }
   ],
   "source": [
    "np.append()"
   ]
  },
  {
   "cell_type": "code",
   "execution_count": null,
   "id": "be013cda",
   "metadata": {},
   "outputs": [],
   "source": [
    "import numpy as np\n",
    "\n",
    "# Existing array\n",
    "original_array = np.array([1, 2, 3, 4, 5])\n",
    "\n",
    "# Element to append\n",
    "new_element = 6\n",
    "\n",
    "# Append the new element to the original array\n",
    "new_array = np.append(original_array, new_element)\n",
    "\n",
    "print(new_array)  # Output the updated array\n"
   ]
  }
 ],
 "metadata": {
  "kernelspec": {
   "display_name": "Python 3 (ipykernel)",
   "language": "python",
   "name": "python3"
  },
  "language_info": {
   "codemirror_mode": {
    "name": "ipython",
    "version": 3
   },
   "file_extension": ".py",
   "mimetype": "text/x-python",
   "name": "python",
   "nbconvert_exporter": "python",
   "pygments_lexer": "ipython3",
   "version": "3.9.7"
  }
 },
 "nbformat": 4,
 "nbformat_minor": 5
}
