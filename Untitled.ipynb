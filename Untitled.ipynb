{
 "cells": [
  {
   "cell_type": "code",
   "execution_count": 1,
   "id": "50134159",
   "metadata": {},
   "outputs": [],
   "source": [
    "name=\"earlham schools\"\n",
    "\n",
    "#[start:stop:step]"
   ]
  },
  {
   "cell_type": "code",
   "execution_count": 5,
   "id": "42c11f87",
   "metadata": {},
   "outputs": [
    {
     "name": "stdout",
     "output_type": "stream",
     "text": [
      "emo\n"
     ]
    }
   ],
   "source": [
    "var=name[::6]\n",
    "print(var)"
   ]
  },
  {
   "cell_type": "code",
   "execution_count": 6,
   "id": "750967c7",
   "metadata": {},
   "outputs": [
    {
     "name": "stdout",
     "output_type": "stream",
     "text": [
      "earlham schools\n"
     ]
    }
   ],
   "source": [
    "var2=name[::]\n",
    "print(var2)"
   ]
  },
  {
   "cell_type": "code",
   "execution_count": 10,
   "id": "040db281",
   "metadata": {},
   "outputs": [
    {
     "name": "stdout",
     "output_type": "stream",
     "text": [
      "erhms\n"
     ]
    }
   ],
   "source": [
    "print(var2[0:10:2])"
   ]
  },
  {
   "cell_type": "code",
   "execution_count": null,
   "id": "a7bf3b52",
   "metadata": {},
   "outputs": [],
   "source": [
    "list=['a','b']"
   ]
  },
  {
   "cell_type": "code",
   "execution_count": 11,
   "id": "ce149f82",
   "metadata": {},
   "outputs": [
    {
     "name": "stdout",
     "output_type": "stream",
     "text": [
      "Hello, this is a string within a list.\n"
     ]
    }
   ],
   "source": [
    "my_list = ['Hello, this is a string within a list.']\n",
    "print(my_list[0]) "
   ]
  },
  {
   "cell_type": "code",
   "execution_count": null,
   "id": "158a3521",
   "metadata": {},
   "outputs": [],
   "source": []
  }
 ],
 "metadata": {
  "kernelspec": {
   "display_name": "Python 3 (ipykernel)",
   "language": "python",
   "name": "python3"
  },
  "language_info": {
   "codemirror_mode": {
    "name": "ipython",
    "version": 3
   },
   "file_extension": ".py",
   "mimetype": "text/x-python",
   "name": "python",
   "nbconvert_exporter": "python",
   "pygments_lexer": "ipython3",
   "version": "3.9.7"
  }
 },
 "nbformat": 4,
 "nbformat_minor": 5
}
