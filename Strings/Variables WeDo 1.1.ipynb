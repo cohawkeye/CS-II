{
 "cells": [
  {
   "cell_type": "markdown",
   "id": "96f94278",
   "metadata": {},
   "source": [
    "Strings/Variables\n",
    "3B-AP-12 Compare and contrast fundamental data structures and their uses.\n",
    "I can create variables of different types, change their type and modify them.  "
   ]
  },
  {
   "cell_type": "markdown",
   "id": "fb3c1739",
   "metadata": {},
   "source": [
    "Variables in Python can be declared using '='\n",
    "a=45"
   ]
  },
  {
   "cell_type": "markdown",
   "id": "5adc90b3",
   "metadata": {},
   "source": [
    "Strings are the most basic types of variables.  They can be letters, words, phrases or blocks of text. \n",
    "variable=\"Hello World\""
   ]
  },
  {
   "cell_type": "markdown",
   "id": "3574fe34",
   "metadata": {},
   "source": [
    "Create your first Variable.  \n",
    "in the cell below type: variable='Hello World'\n",
    "and press Shift+Enter to run it or hit the Run button"
   ]
  },
  {
   "cell_type": "code",
   "execution_count": null,
   "id": "7580cf1b",
   "metadata": {},
   "outputs": [],
   "source": []
  },
  {
   "cell_type": "markdown",
   "id": "958c6549",
   "metadata": {},
   "source": [
    "Printing text in python just requires adding the function print(variable)\n",
    "Type: print(variable)\n",
    "In Jupyter Notebook you can press Tab once you type in a couple of letters "
   ]
  },
  {
   "cell_type": "code",
   "execution_count": null,
   "id": "1380fac2",
   "metadata": {},
   "outputs": [],
   "source": []
  },
  {
   "cell_type": "markdown",
   "id": "a09f3d6a",
   "metadata": {},
   "source": [
    "Integers are counting numbers.  You can cast Integers as Strings OR regular Integers.  \n",
    "How does Jupyter markup these variables differently: \n",
    "\n",
    "a=\"34\"\n",
    "b=34"
   ]
  },
  {
   "cell_type": "code",
   "execution_count": null,
   "id": "b15028b2",
   "metadata": {},
   "outputs": [],
   "source": []
  },
  {
   "cell_type": "markdown",
   "id": "a16bae55",
   "metadata": {},
   "source": [
    "Floats: Floating point numbers are decimals.  In some programming languages they are called DOUBLES.  \n",
    "\n",
    "c=3.45"
   ]
  },
  {
   "cell_type": "markdown",
   "id": "9de3d38c",
   "metadata": {},
   "source": [
    "Booleans are True/False statements.  \n",
    "gamePlay=True"
   ]
  },
  {
   "cell_type": "code",
   "execution_count": null,
   "id": "e8a1a88f",
   "metadata": {},
   "outputs": [],
   "source": []
  }
 ],
 "metadata": {
  "kernelspec": {
   "display_name": "Python 3 (ipykernel)",
   "language": "python",
   "name": "python3"
  },
  "language_info": {
   "codemirror_mode": {
    "name": "ipython",
    "version": 3
   },
   "file_extension": ".py",
   "mimetype": "text/x-python",
   "name": "python",
   "nbconvert_exporter": "python",
   "pygments_lexer": "ipython3",
   "version": "3.9.7"
  }
 },
 "nbformat": 4,
 "nbformat_minor": 5
}
