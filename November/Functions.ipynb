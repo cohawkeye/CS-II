{
 "cells": [
  {
   "cell_type": "code",
   "execution_count": null,
   "id": "19aeae00",
   "metadata": {},
   "outputs": [],
   "source": [
    "def add_records(dictionary, records):\n",
    "    \"\"\"\n",
    "    Add multiple records to a dictionary.\n",
    "\n",
    "    Parameters:\n",
    "        dictionary (dict): The target dictionary.\n",
    "        records (list): A list of dictionaries representing records to be added.\n",
    "\n",
    "    Returns:\n",
    "        None\n",
    "    \"\"\"\n",
    "    for record in records:\n",
    "        # Extract the name from the record dictionary to use as the key\n",
    "        name = record.get('Name', '')  # Assuming 'Name' is a key in your record dictionaries\n",
    "        if name:\n",
    "            # If the name exists, add the record to the dictionary\n",
    "            dictionary[name] = record\n",
    "\n",
    "\n",
    "# Example usage:\n",
    "people_info = {\n",
    "    'John': {'Age': 25, 'City': 'Exampleville', 'Occupation': 'Engineer'},\n",
    "    'Jane': {'Age': 30, 'City': 'Sampletown', 'Occupation': 'Doctor'},\n",
    "}\n",
    "\n",
    "new_records = [\n",
    "    {'Name': 'Bob', 'Age': 22, 'City': 'Testburg', 'Occupation': 'Student'},\n",
    "    {'Name': 'Alice', 'Age': 28, 'City': 'Wonderland', 'Occupation': 'Artist'},\n",
    "]\n",
    "\n",
    "add_records(people_info, new_records)\n",
    "\n",
    "# Displaying the updated dictionary\n",
    "print(people_info)\n"
   ]
  },
  {
   "cell_type": "code",
   "execution_count": 1,
   "id": "cd23e054",
   "metadata": {},
   "outputs": [
    {
     "ename": "SyntaxError",
     "evalue": "invalid syntax (3214558154.py, line 7)",
     "output_type": "error",
     "traceback": [
      "\u001b[0;36m  File \u001b[0;32m\"/var/folders/jl/2k4dhd7s3rv_cncxt1zks9_c0000gq/T/ipykernel_17123/3214558154.py\"\u001b[0;36m, line \u001b[0;32m7\u001b[0m\n\u001b[0;31m    if\u001b[0m\n\u001b[0m       ^\u001b[0m\n\u001b[0;31mSyntaxError\u001b[0m\u001b[0;31m:\u001b[0m invalid syntax\n"
     ]
    }
   ],
   "source": [
    "contactDB ={\n",
    "    'Kristin': {'firstName': 'Kristin', 'lastName': 'Sheffield'}\n",
    "}\n",
    "\n",
    "def addRecords(contactDB, first, last): \n",
    "    for key, value in contactDB.items():\n",
    "        contactDB\n",
    "        \n",
    "        \n",
    "first=input(\"First? \")\n",
    "last=input(\" Last \")\n",
    "addRecords(contactDB, first, last)\n",
    "        "
   ]
  },
  {
   "cell_type": "code",
   "execution_count": 2,
   "id": "c24d9a6e",
   "metadata": {},
   "outputs": [
    {
     "name": "stdout",
     "output_type": "stream",
     "text": [
      "First? cory\n",
      "Last? houghton\n",
      "{'Kristin': {'firstName': 'Kristin', 'lastName': 'Sheffield'}, 'Cory': {'firstName': 'cory', 'lastName': 'houghton'}}\n"
     ]
    }
   ],
   "source": [
    "contactDB = {'Kristin': {'firstName': 'Kristin', 'lastName': 'Sheffield'}}\n",
    "\n",
    "def addRecords(contactDB, first, last): \n",
    "    # Generating a unique key based on the first name\n",
    "    key = first.capitalize()  # You can adjust this based on your requirements\n",
    "\n",
    "    # Creating a new record dictionary\n",
    "    new_record = {'firstName': first, 'lastName': last}\n",
    "\n",
    "    # Adding the new record to the contactDB dictionary\n",
    "    contactDB[key] = new_record\n",
    "\n",
    "# Taking user input\n",
    "first = input(\"First? \")\n",
    "last = input(\"Last? \")\n",
    "\n",
    "# Calling the function to add the record\n",
    "addRecords(contactDB, first, last)\n",
    "\n",
    "# Displaying the updated contactDB dictionary\n",
    "print(contactDB)\n"
   ]
  },
  {
   "cell_type": "code",
   "execution_count": 7,
   "id": "cbd94964",
   "metadata": {},
   "outputs": [
    {
     "name": "stdout",
     "output_type": "stream",
     "text": [
      "Song? do the evolution\n",
      "Artist ? pj\n",
      "{'Song': {'Song': 'do the evolution', 'Artist': 'pj'}, 'Artist': 'Lynyrd Skynyrd'}\n"
     ]
    }
   ],
   "source": [
    "playlistDB={ 'Song': 'Freebird', 'Artist': 'Lynyrd Skynyrd'}\n",
    "\n",
    "def addNewSongs(playlistDB, song, artist):\n",
    "    #recordID=(len(playlistDB)-1)\n",
    "    new_record={'Song': song, 'Artist': artist}\n",
    "    playlistDB['Song']=new_record\n",
    "\n",
    "song=input(\"Song? \")\n",
    "artist=input(\"Artist ? \")\n",
    "addNewSongs(playlistDB, song, artist)\n",
    "print(playlistDB)"
   ]
  },
  {
   "cell_type": "code",
   "execution_count": null,
   "id": "d4315854",
   "metadata": {},
   "outputs": [],
   "source": [
    "# Dictionary to keep track of playlists\n",
    "playlists = {\n",
    "    'Playlist1': [\n",
    "        {'Song': 'Song1', 'Artist': 'Artist1', 'Genre': 'Genre1'},\n",
    "        {'Song': 'Song2', 'Artist': 'Artist2', 'Genre': 'Genre2'},\n",
    "        # Add more songs as needed\n",
    "    ],\n",
    "    'Playlist2': [\n",
    "        {'Song': 'Song3', 'Artist': 'Artist3', 'Genre': 'Genre1'},\n",
    "        {'Song': 'Song4', 'Artist': 'Artist4', 'Genre': 'Genre3'},\n",
    "        # Add more songs as needed\n",
    "    ],\n",
    "    # Add more playlists as needed\n",
    "}\n",
    "\n",
    "# Function to add a new song to a playlist\n",
    "def add_song(playlist_name, song_name, artist, genre):\n",
    "    new_song = {'Song': song_name, 'Artist': artist, 'Genre': genre}\n",
    "    \n",
    "    if playlist_name in playlists:\n",
    "        playlists[playlist_name].append(new_song)\n",
    "    else:\n",
    "        playlists[playlist_name] = [new_song]\n",
    "\n",
    "# Example usage:\n",
    "playlist_name = 'Playlist1'\n",
    "song_name = 'NewSong'\n",
    "artist = 'NewArtist'\n",
    "genre = 'NewGenre'\n",
    "\n",
    "add_song(playlist_name, song_name, artist, genre)\n",
    "\n",
    "# Displaying the updated playlists dictionary\n",
    "print(playlists)\n"
   ]
  },
  {
   "cell_type": "code",
   "execution_count": 20,
   "id": "09d9f218",
   "metadata": {},
   "outputs": [
    {
     "name": "stdout",
     "output_type": "stream",
     "text": [
      "The city of Kansas City's mascot is Chiefs\n",
      "The city of Chicago's mascot is Bears\n"
     ]
    }
   ],
   "source": [
    "\n",
    "nflTeams = {}\n",
    "nflTeams['Kansas City'] = {'Mascot': 'Chiefs'}\n",
    "nflTeams['Chicago'] = {'Mascot': 'Bears'}\n",
    "\n",
    "#print(nflTeams)\n",
    "for city, info in nflTeams.items():\n",
    "    mascot = info.get('Mascot', 'Unknown')  # Get the mascot, default to 'Unknown' if not found\n",
    "    print(\"The city of \"+ f\"{city}\"+\"'s\"+ \" mascot is \"+ f\"{mascot}\")"
   ]
  },
  {
   "cell_type": "code",
   "execution_count": 23,
   "id": "df174f85",
   "metadata": {},
   "outputs": [
    {
     "name": "stdout",
     "output_type": "stream",
     "text": [
      "City? Sacremento\n",
      "State? California\n",
      "{'Capital': 'Sacremento', 'State': 'California'}\n"
     ]
    }
   ],
   "source": [
    "stateCapital = {'Capital': 'Des Moines', 'State': 'Iowa'}\n",
    "\n",
    "def addCapital(stateCapital, city, state):\n",
    "    newRecord = {'Capital': city, 'State': state}\n",
    "    stateCapital.update(newRecord)\n",
    "\n",
    "city_input = input('City? ')\n",
    "state_input = input('State? ')\n",
    "addCapital(stateCapital, city_input, state_input)\n",
    "\n",
    "print(stateCapital)\n"
   ]
  },
  {
   "cell_type": "code",
   "execution_count": null,
   "id": "236c14a7",
   "metadata": {},
   "outputs": [],
   "source": []
  }
 ],
 "metadata": {
  "kernelspec": {
   "display_name": "Python 3 (ipykernel)",
   "language": "python",
   "name": "python3"
  },
  "language_info": {
   "codemirror_mode": {
    "name": "ipython",
    "version": 3
   },
   "file_extension": ".py",
   "mimetype": "text/x-python",
   "name": "python",
   "nbconvert_exporter": "python",
   "pygments_lexer": "ipython3",
   "version": "3.9.7"
  }
 },
 "nbformat": 4,
 "nbformat_minor": 5
}
