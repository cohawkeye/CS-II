{
 "cells": [
  {
   "cell_type": "code",
   "execution_count": 1,
   "id": "a351e01a",
   "metadata": {},
   "outputs": [],
   "source": [
    "contacts={'firstName': 'Cory',\n",
    "         'lastName': 'Houghton',\n",
    "         }"
   ]
  },
  {
   "cell_type": "code",
   "execution_count": 5,
   "id": "7cea4a9b",
   "metadata": {},
   "outputs": [
    {
     "ename": "AttributeError",
     "evalue": "'dict' object has no attribute 'add'",
     "output_type": "error",
     "traceback": [
      "\u001b[0;31m---------------------------------------------------------------------------\u001b[0m",
      "\u001b[0;31mAttributeError\u001b[0m                            Traceback (most recent call last)",
      "\u001b[0;32m/var/folders/jl/2k4dhd7s3rv_cncxt1zks9_c0000gq/T/ipykernel_14565/82860669.py\u001b[0m in \u001b[0;36m<module>\u001b[0;34m\u001b[0m\n\u001b[0;32m----> 1\u001b[0;31m \u001b[0mcontacts\u001b[0m\u001b[0;34m.\u001b[0m\u001b[0madd\u001b[0m\u001b[0;34m(\u001b[0m\u001b[0;34m{\u001b[0m\u001b[0;34m'firstName'\u001b[0m\u001b[0;34m:\u001b[0m \u001b[0;34m'Jon'\u001b[0m\u001b[0;34m,\u001b[0m \u001b[0;34m'lastName'\u001b[0m\u001b[0;34m:\u001b[0m \u001b[0;34m'Doe'\u001b[0m\u001b[0;34m}\u001b[0m\u001b[0;34m)\u001b[0m\u001b[0;34m\u001b[0m\u001b[0;34m\u001b[0m\u001b[0m\n\u001b[0m",
      "\u001b[0;31mAttributeError\u001b[0m: 'dict' object has no attribute 'add'"
     ]
    }
   ],
   "source": [
    "contacts.add({'firstName': 'Jon', 'lastName': 'Doe'})"
   ]
  },
  {
   "cell_type": "code",
   "execution_count": 3,
   "id": "29f9162e",
   "metadata": {},
   "outputs": [
    {
     "name": "stdout",
     "output_type": "stream",
     "text": [
      "{'firstName': 'Jon', 'lastName': 'Doe'}\n"
     ]
    }
   ],
   "source": [
    "print(contacts)"
   ]
  },
  {
   "cell_type": "code",
   "execution_count": null,
   "id": "dbb4aa5e",
   "metadata": {},
   "outputs": [],
   "source": []
  }
 ],
 "metadata": {
  "kernelspec": {
   "display_name": "Python 3 (ipykernel)",
   "language": "python",
   "name": "python3"
  },
  "language_info": {
   "codemirror_mode": {
    "name": "ipython",
    "version": 3
   },
   "file_extension": ".py",
   "mimetype": "text/x-python",
   "name": "python",
   "nbconvert_exporter": "python",
   "pygments_lexer": "ipython3",
   "version": "3.9.7"
  }
 },
 "nbformat": 4,
 "nbformat_minor": 5
}
