{
 "cells": [
  {
   "cell_type": "markdown",
   "id": "f437f5fe",
   "metadata": {},
   "source": [
    "3B-AP-12 Compare and contrast fundamental data structures and their uses.\n",
    "I can evaluate variables.  "
   ]
  },
  {
   "cell_type": "markdown",
   "id": "16c033bd",
   "metadata": {},
   "source": [
    "Evaluate the following operations.  "
   ]
  },
  {
   "cell_type": "markdown",
   "id": "1254c402",
   "metadata": {},
   "source": [
    "2==3 3==3 7!=8 9!=9"
   ]
  },
  {
   "cell_type": "code",
   "execution_count": null,
   "id": "cf2d66f2",
   "metadata": {},
   "outputs": [],
   "source": []
  },
  {
   "cell_type": "markdown",
   "id": "dd5cfdee",
   "metadata": {},
   "source": [
    "2>3 3<3 7<8 7>=7 9<=2"
   ]
  },
  {
   "cell_type": "code",
   "execution_count": null,
   "id": "dc69af57",
   "metadata": {},
   "outputs": [],
   "source": []
  },
  {
   "cell_type": "markdown",
   "id": "2491391f",
   "metadata": {},
   "source": [
    "2/2 2/4 4/3 0/3 3/0"
   ]
  },
  {
   "cell_type": "code",
   "execution_count": null,
   "id": "c3d831c1",
   "metadata": {},
   "outputs": [],
   "source": []
  },
  {
   "cell_type": "markdown",
   "id": "98e0f23c",
   "metadata": {},
   "source": [
    "Modulo: Modulo is remainder division.  \n"
   ]
  },
  {
   "cell_type": "markdown",
   "id": "8eb446e9",
   "metadata": {},
   "source": [
    "3//4 4//3 10//12 3//12 3//13"
   ]
  },
  {
   "cell_type": "code",
   "execution_count": null,
   "id": "3352fe1e",
   "metadata": {},
   "outputs": [],
   "source": []
  },
  {
   "cell_type": "markdown",
   "id": "fe6f85e4",
   "metadata": {},
   "source": [
    "Evaluate the following expressions:"
   ]
  },
  {
   "cell_type": "code",
   "execution_count": 20,
   "id": "ad2acfad",
   "metadata": {},
   "outputs": [],
   "source": [
    "a=7\n",
    "b=9\n",
    "c=10\n",
    "d=True\n",
    "e=False"
   ]
  },
  {
   "cell_type": "code",
   "execution_count": null,
   "id": "878a68b1",
   "metadata": {},
   "outputs": [],
   "source": [
    "is "
   ]
  }
 ],
 "metadata": {
  "kernelspec": {
   "display_name": "Python 3 (ipykernel)",
   "language": "python",
   "name": "python3"
  },
  "language_info": {
   "codemirror_mode": {
    "name": "ipython",
    "version": 3
   },
   "file_extension": ".py",
   "mimetype": "text/x-python",
   "name": "python",
   "nbconvert_exporter": "python",
   "pygments_lexer": "ipython3",
   "version": "3.9.7"
  }
 },
 "nbformat": 4,
 "nbformat_minor": 5
}
