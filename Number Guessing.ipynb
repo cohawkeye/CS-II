{
 "cells": [
  {
   "cell_type": "code",
   "execution_count": 11,
   "id": "c9b24a02",
   "metadata": {},
   "outputs": [
    {
     "ename": "NameError",
     "evalue": "name 'Higher' is not defined",
     "output_type": "error",
     "traceback": [
      "\u001b[0;31m---------------------------------------------------------------------------\u001b[0m",
      "\u001b[0;31mNameError\u001b[0m                                 Traceback (most recent call last)",
      "\u001b[0;32m/var/folders/jl/2k4dhd7s3rv_cncxt1zks9_c0000gq/T/ipykernel_86705/277750147.py\u001b[0m in \u001b[0;36m<module>\u001b[0;34m\u001b[0m\n\u001b[1;32m      3\u001b[0m \u001b[0mtries\u001b[0m\u001b[0;34m=\u001b[0m\u001b[0;36m0\u001b[0m\u001b[0;34m\u001b[0m\u001b[0;34m\u001b[0m\u001b[0m\n\u001b[1;32m      4\u001b[0m \u001b[0;32mwhile\u001b[0m \u001b[0mguessNumber\u001b[0m\u001b[0;34m!=\u001b[0m\u001b[0;34m-\u001b[0m\u001b[0;36m1\u001b[0m\u001b[0;34m:\u001b[0m\u001b[0;34m\u001b[0m\u001b[0;34m\u001b[0m\u001b[0m\n\u001b[0;32m----> 5\u001b[0;31m     \u001b[0;32mif\u001b[0m \u001b[0mguessNumber\u001b[0m\u001b[0;34m==\u001b[0m\u001b[0mHigher\u001b[0m\u001b[0;34m:\u001b[0m\u001b[0;34m\u001b[0m\u001b[0;34m\u001b[0m\u001b[0m\n\u001b[0m\u001b[1;32m      6\u001b[0m         \u001b[0mprint\u001b[0m\u001b[0;34m(\u001b[0m\u001b[0;34m\"Guess higher\"\u001b[0m\u001b[0;34m)\u001b[0m\u001b[0;34m\u001b[0m\u001b[0;34m\u001b[0m\u001b[0m\n\u001b[1;32m      7\u001b[0m         \u001b[0mguessNumber\u001b[0m\u001b[0;34m(\u001b[0m\u001b[0mguess\u001b[0m\u001b[0;34m)\u001b[0m\u001b[0;34m\u001b[0m\u001b[0;34m\u001b[0m\u001b[0m\n",
      "\u001b[0;31mNameError\u001b[0m: name 'Higher' is not defined"
     ]
    }
   ],
   "source": [
    "import random\n",
    "num=random.randint(1,100)\n",
    "tries=0\n",
    "while guessNumber!=-1:\n",
    "    if guessNumber==Higher:\n",
    "        print(\"Guess higher\")\n",
    "        guessNumber(guess)\n",
    "    elif guessNumber==Lower:\n",
    "        print(\"Guess Lower\")\n",
    "guess=int(input(\"Let's play a guessing game...guess a number between 1 and 100 ? \"))\n",
    "guessNumber(array, guess)"
   ]
  },
  {
   "cell_type": "code",
   "execution_count": 13,
   "id": "9eb8d41c",
   "metadata": {},
   "outputs": [],
   "source": [
    "\n",
    "def guessNumber(array, guess, tries):\n",
    "    Higher=0\n",
    "    Lower=0\n",
    "    if guess==array:\n",
    "        return True\n",
    "    elif guess<array:\n",
    "        tries=tries+1\n",
    "        return Higher\n",
    "    else: \n",
    "        tries=tries+1\n",
    "        return Lower\n",
    "    return tries\n",
    "    -1"
   ]
  },
  {
   "cell_type": "code",
   "execution_count": null,
   "id": "08bdcf5c",
   "metadata": {},
   "outputs": [],
   "source": []
  },
  {
   "cell_type": "code",
   "execution_count": null,
   "id": "1454e24c",
   "metadata": {},
   "outputs": [],
   "source": []
  }
 ],
 "metadata": {
  "kernelspec": {
   "display_name": "Python 3 (ipykernel)",
   "language": "python",
   "name": "python3"
  },
  "language_info": {
   "codemirror_mode": {
    "name": "ipython",
    "version": 3
   },
   "file_extension": ".py",
   "mimetype": "text/x-python",
   "name": "python",
   "nbconvert_exporter": "python",
   "pygments_lexer": "ipython3",
   "version": "3.9.7"
  }
 },
 "nbformat": 4,
 "nbformat_minor": 5
}
