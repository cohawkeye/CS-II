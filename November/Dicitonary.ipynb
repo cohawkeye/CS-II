{
 "cells": [
  {
   "cell_type": "code",
   "execution_count": 2,
   "id": "73aaff92",
   "metadata": {},
   "outputs": [
    {
     "name": "stdout",
     "output_type": "stream",
     "text": [
      "{'Name': 'John Doe', 'Age': 25, 'City': 'Exampleville', 'Occupation': 'Engineer'}\n"
     ]
    }
   ],
   "source": [
    "#adding/editing dictionaries\n",
    "# Hardcoding values directly in the code\n",
    "name = \"John Doe\"\n",
    "age = 25\n",
    "city = \"Exampleville\"\n",
    "\n",
    "# Creating a dictionary with hardcoded values\n",
    "person_info = {'Name': name, 'Age': age, 'City': city}\n",
    "\n",
    "# Displaying the dictionary\n",
    "\n",
    "person_info['Occupation'] = 'Engineer'\n",
    "print(person_info)"
   ]
  },
  {
   "cell_type": "code",
   "execution_count": 5,
   "id": "11394220",
   "metadata": {},
   "outputs": [
    {
     "name": "stdout",
     "output_type": "stream",
     "text": [
      "{'Name': 'John Doe', 'Age': 25, 'City': 'Exampleville', 'Occupation': 'Engineer', 'Bob': {'Age': 30, 'City': 'Phoenix', 'Occupation': 'Driver'}}\n"
     ]
    }
   ],
   "source": [
    "#adding new records\n",
    "person_info['Bob']={'Age': 30, 'City': 'Phoenix', 'Occupation': 'Driver'}\n",
    "print(person_info)"
   ]
  },
  {
   "cell_type": "code",
   "execution_count": 7,
   "id": "b98fc0ed",
   "metadata": {},
   "outputs": [
    {
     "name": "stdout",
     "output_type": "stream",
     "text": [
      "{'Name': 'John Doe', 'Age': 25, 'City': 'Exampleville', 'Occupation': 'Engineer', 'Bob': {'Age': 30, 'City': 'Chicago', 'Occupation': 'Driver'}}\n"
     ]
    }
   ],
   "source": [
    "#updating values\n",
    "# Updating Bob's city\n",
    "person_info['Bob']['City'] = 'Chicago'\n",
    "print(person_info)"
   ]
  },
  {
   "cell_type": "code",
   "execution_count": 8,
   "id": "4cc545d0",
   "metadata": {},
   "outputs": [
    {
     "name": "stdout",
     "output_type": "stream",
     "text": [
      "{'Name': 'John Doe', 'Age': 25, 'City': 'Exampleville', 'Occupation': 'Engineer'}\n"
     ]
    }
   ],
   "source": [
    "# deleting key\n",
    "del person_info['Bob']\n",
    "print(person_info)"
   ]
  },
  {
   "cell_type": "code",
   "execution_count": null,
   "id": "d6f3c324",
   "metadata": {},
   "outputs": [],
   "source": [
    "playlist={''}"
   ]
  }
 ],
 "metadata": {
  "kernelspec": {
   "display_name": "Python 3 (ipykernel)",
   "language": "python",
   "name": "python3"
  },
  "language_info": {
   "codemirror_mode": {
    "name": "ipython",
    "version": 3
   },
   "file_extension": ".py",
   "mimetype": "text/x-python",
   "name": "python",
   "nbconvert_exporter": "python",
   "pygments_lexer": "ipython3",
   "version": "3.9.7"
  }
 },
 "nbformat": 4,
 "nbformat_minor": 5
}
